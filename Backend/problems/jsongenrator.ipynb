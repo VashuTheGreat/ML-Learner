{
 "cells": [
  {
   "cell_type": "code",
   "execution_count": 11,
   "id": "91581146",
   "metadata": {},
   "outputs": [
    {
     "name": "stdout",
     "output_type": "stream",
     "text": [
      "./\n"
     ]
    },
    {
     "data": {
      "text/plain": [
       "['difficult', 'easy', 'medium']"
      ]
     },
     "execution_count": 11,
     "metadata": {},
     "output_type": "execute_result"
    }
   ],
   "source": [
    "from Readmejson import markdown_to_json\n",
    "import os\n",
    "path=\"./\"\n",
    "print(path)\n",
    "\n",
    "\n",
    "folders = [f for f in os.listdir(path) if os.path.isdir(os.path.join(path, f))]\n",
    "folders=['difficult', 'easy', 'medium']\n",
    "folders"
   ]
  },
  {
   "cell_type": "code",
   "execution_count": 13,
   "id": "73fea318",
   "metadata": {},
   "outputs": [
    {
     "name": "stdout",
     "output_type": "stream",
     "text": [
      "✅ Markdown converted to JSON → c:\\Users\\vansh\\ML-Learner\\Backend\\problems\\./easy\\Batch_Iterator_for_Dataset\\README.json\n",
      "✅ Markdown converted to JSON → c:\\Users\\vansh\\ML-Learner\\Backend\\problems\\./easy\\Calculate_accuracy_score\\README.json\n",
      "✅ Markdown converted to JSON → c:\\Users\\vansh\\ML-Learner\\Backend\\problems\\./easy\\Calculate_Mean_by_Row_or_Column\\README.json\n",
      "✅ Markdown converted to JSON → c:\\Users\\vansh\\ML-Learner\\Backend\\problems\\./easy\\Convert_Vector_to_Diagonal_Matrix\\README.json\n",
      "✅ Markdown converted to JSON → c:\\Users\\vansh\\ML-Learner\\Backend\\problems\\./easy\\Feature_Scaling_Implementation\\README.json\n",
      "✅ Markdown converted to JSON → c:\\Users\\vansh\\ML-Learner\\Backend\\problems\\./easy\\Implement_Precision_Metric\\README.json\n",
      "✅ Markdown converted to JSON → c:\\Users\\vansh\\ML-Learner\\Backend\\problems\\./easy\\Implement_ReLU_Activation_Function\\README.json\n",
      "✅ Markdown converted to JSON → c:\\Users\\vansh\\ML-Learner\\Backend\\problems\\./easy\\Implement_Ridge_Regression_Loss_Function\\README.json\n",
      "✅ Markdown converted to JSON → c:\\Users\\vansh\\ML-Learner\\Backend\\problems\\./easy\\Leaky_ReLU_Activation_Function\\README.json\n",
      "✅ Markdown converted to JSON → c:\\Users\\vansh\\ML-Learner\\Backend\\problems\\./easy\\Linear_Kernel\\README.json\n",
      "✅ Markdown converted to JSON → c:\\Users\\vansh\\ML-Learner\\Backend\\problems\\./easy\\Linear_Regression_Using_Gradient_Descent\\README.json\n",
      "✅ Markdown converted to JSON → c:\\Users\\vansh\\ML-Learner\\Backend\\problems\\./easy\\Linear_Regression_Using_Normal_Equation\\README.json\n",
      "✅ Markdown converted to JSON → c:\\Users\\vansh\\ML-Learner\\Backend\\problems\\./easy\\Log_Softmax\\README.json\n",
      "✅ Markdown converted to JSON → c:\\Users\\vansh\\ML-Learner\\Backend\\problems\\./easy\\matrix_times_vector\\README.json\n",
      "✅ Markdown converted to JSON → c:\\Users\\vansh\\ML-Learner\\Backend\\problems\\./easy\\One_Hot_Encoding_of_Nominal_Values\\README.json\n",
      "✅ Markdown converted to JSON → c:\\Users\\vansh\\ML-Learner\\Backend\\problems\\./easy\\Random_shuffle_of_dataset\\README.json\n",
      "✅ Markdown converted to JSON → c:\\Users\\vansh\\ML-Learner\\Backend\\problems\\./easy\\Reshape_Matrix\\README.json\n",
      "✅ Markdown converted to JSON → c:\\Users\\vansh\\ML-Learner\\Backend\\problems\\./easy\\scalar_multiplication_of_a_matrix\\README.json\n",
      "✅ Markdown converted to JSON → c:\\Users\\vansh\\ML-Learner\\Backend\\problems\\./easy\\Sigmoid_Activation_Function_Understanding\\README.json\n",
      "✅ Markdown converted to JSON → c:\\Users\\vansh\\ML-Learner\\Backend\\problems\\./easy\\Single_Neuron\\README.json\n",
      "✅ Markdown converted to JSON → c:\\Users\\vansh\\ML-Learner\\Backend\\problems\\./easy\\Softmax_Activation_Function_Implementation\\README.json\n",
      "✅ Markdown converted to JSON → c:\\Users\\vansh\\ML-Learner\\Backend\\problems\\./easy\\Transformation_Matrix_from_Basis_B_to_C\\README.json\n",
      "✅ Markdown converted to JSON → c:\\Users\\vansh\\ML-Learner\\Backend\\problems\\./easy\\transpose_of_a_matrix\\README.json\n",
      "✅ Markdown converted to JSON → c:\\Users\\vansh\\ML-Learner\\Backend\\problems\\./medium\\Calculate_Correlation_Matrix\\README.json\n",
      "✅ Markdown converted to JSON → c:\\Users\\vansh\\ML-Learner\\Backend\\problems\\./medium\\Calculate_Covariance_Matrix\\README.json\n",
      "✅ Markdown converted to JSON → c:\\Users\\vansh\\ML-Learner\\Backend\\problems\\./medium\\K-Means_Clustering\\README.json\n",
      "✅ Markdown converted to JSON → c:\\Users\\vansh\\ML-Learner\\Backend\\problems\\./medium\\Matrix_Transformation\\README.json\n",
      "✅ Markdown converted to JSON → c:\\Users\\vansh\\ML-Learner\\Backend\\problems\\./medium\\Solve Linear_Equations_using_Jacobi_Method\\README.json\n"
     ]
    }
   ],
   "source": [
    "for folder in folders:\n",
    "    folder_path = os.path.join(path, folder)\n",
    "    subfolders = [sf for sf in os.listdir(folder_path) if os.path.isdir(os.path.join(folder_path, sf))]\n",
    "    \n",
    "    for qfol in subfolders:\n",
    "        pat = os.path.join(folder_path, qfol)\n",
    "        readme = os.path.join(pat, \"README.md\")\n",
    "        if os.path.exists(readme):\n",
    "            markdown_to_json(readme, os.path.join(pat, \"README.json\"))\n",
    "        else:\n",
    "            print(f\"❌ Error: File not found at {readme}\")"
   ]
  },
  {
   "cell_type": "code",
   "execution_count": null,
   "id": "decd0aeb",
   "metadata": {},
   "outputs": [],
   "source": []
  }
 ],
 "metadata": {
  "kernelspec": {
   "display_name": "base",
   "language": "python",
   "name": "python3"
  },
  "language_info": {
   "codemirror_mode": {
    "name": "ipython",
    "version": 3
   },
   "file_extension": ".py",
   "mimetype": "text/x-python",
   "name": "python",
   "nbconvert_exporter": "python",
   "pygments_lexer": "ipython3",
   "version": "3.13.5"
  }
 },
 "nbformat": 4,
 "nbformat_minor": 5
}
